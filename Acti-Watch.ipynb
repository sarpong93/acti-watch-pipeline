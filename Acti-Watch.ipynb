{
 "cells": [
  {
   "cell_type": "code",
   "execution_count": 23,
   "id": "3220e6cd-efc8-4ffa-9278-3983f1c50ca2",
   "metadata": {},
   "outputs": [],
   "source": [
    "import pandas as pd\n",
    "\n",
    "def extract(file_path, sheet_name):\n",
    "    df = pd.read_excel(file_path, sheet_name=sheet_name, skiprows=2) #loading the file into dataframe\n",
    "    return df\n",
    "\n",
    "raw_data = extract('actiwatch data.xlsx',1)"
   ]
  },
  {
   "cell_type": "code",
   "execution_count": 24,
   "id": "1ffa156e-7dc0-4048-a970-4ca543981c40",
   "metadata": {},
   "outputs": [],
   "source": [
    "def transform(data):\n",
    "    relevant_columns = ['Analysis Name','Subject ID', 'Interval Type', 'Interval#','Onset Latency', 'Efficiency', 'WASO','Sleep Time']\n",
    "    data = data.loc[:,relevant_columns] #selecting only the relevant columns\n",
    "    data = data[data['Interval Type']=='Sleep Summary'] #selecting rows where int_type is Sleep_Summary\n",
    "    data = data[data['Interval#']=='Average(n)'] #selecting rows where int_# is Average(n)\n",
    "    return data\n",
    "\n",
    "cleaned_data = transform(raw_data)"
   ]
  },
  {
   "cell_type": "code",
   "execution_count": 29,
   "id": "c8796180-9eb5-4ebf-8363-43d3b1369767",
   "metadata": {},
   "outputs": [],
   "source": [
    "def load(data):\n",
    "    file = data.to_csv('Acti-Watch-Data.csv',index=False) #saves new dataframe to csv\n",
    "    return file\n",
    "load(cleaned_data)"
   ]
  }
 ],
 "metadata": {
  "kernelspec": {
   "display_name": "Python 3 (ipykernel)",
   "language": "python",
   "name": "python3"
  },
  "language_info": {
   "codemirror_mode": {
    "name": "ipython",
    "version": 3
   },
   "file_extension": ".py",
   "mimetype": "text/x-python",
   "name": "python",
   "nbconvert_exporter": "python",
   "pygments_lexer": "ipython3",
   "version": "3.12.4"
  }
 },
 "nbformat": 4,
 "nbformat_minor": 5
}
